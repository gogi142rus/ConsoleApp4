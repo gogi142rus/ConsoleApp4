{
  "nbformat": 4,
  "nbformat_minor": 0,
  "metadata": {
    "colab": {
      "provenance": [],
      "authorship_tag": "ABX9TyOpBM7ujAgiYEE6lYvulyrR"
    },
    "kernelspec": {
      "name": "python3",
      "display_name": "Python 3"
    },
    "language_info": {
      "name": "python"
    }
  },
  "cells": [
    {
      "cell_type": "code",
      "source": [
        "# Создание примера набора данных\n",
        "data = {\n",
        "    'customer_id': [1, 1, 2, 2, 3],\n",
        "    'transaction_id': [1, 2, 3, 4, 5],\n",
        "    'amount': [100, 200, 150, 300, 250],\n",
        "    'date': pd.to_datetime(['2022-01-01', '2022-01-02', '2022-01-01', '2022-01-03', '2022-01-04'])\n",
        "}\n",
        "\n",
        "transactions = pd.DataFrame(data)\n",
        "\n",
        "# Создание сущности и набора данных\n",
        "es = ft.EntitySet(id='customer_data')\n",
        "es = es.add_dataframe(dataframe_name='transactions', dataframe=transactions, index='transaction_id')\n",
        "\n",
        "# Создание признаков глубиной 3\n",
        "features, feature_defs = ft.dfs(entityset=es, target_dataframe_name='transactions',\n",
        "                                  agg_primitives=['sum', 'count'],\n",
        "                                  trans_primitives=['month', 'year', 'day'],\n",
        "                                  verbose=True)\n",
        "\n",
        "print(features)\n"
      ],
      "metadata": {
        "colab": {
          "base_uri": "https://localhost:8080/"
        },
        "id": "ybEIU0HuirNo",
        "outputId": "82861ae2-9e23-4caf-9510-7aec0481fa4a"
      },
      "execution_count": 3,
      "outputs": [
        {
          "output_type": "stream",
          "name": "stderr",
          "text": [
            "/usr/local/lib/python3.10/dist-packages/featuretools/synthesis/deep_feature_synthesis.py:169: UserWarning: Only one dataframe in entityset, changing max_depth to 1 since deeper features cannot be created\n",
            "  warnings.warn(\n",
            "/usr/local/lib/python3.10/dist-packages/featuretools/synthesis/dfs.py:321: UnusedPrimitiveWarning: Some specified primitives were not used during DFS:\n",
            "  agg_primitives: ['count', 'sum']\n",
            "This may be caused by a using a value of max_depth that is too small, not setting interesting values, or it may indicate no compatible columns for the primitive were found in the data. If the DFS call contained multiple instances of a primitive in the list above, none of them were used.\n",
            "  warnings.warn(warning_msg, UnusedPrimitiveWarning)\n"
          ]
        },
        {
          "output_type": "stream",
          "name": "stdout",
          "text": [
            "Built 5 features\n",
            "Elapsed: 00:00 | Progress: 100%|██████████\n",
            "                customer_id  amount DAY(date) MONTH(date) YEAR(date)\n",
            "transaction_id                                                      \n",
            "1                         1     100         1           1       2022\n",
            "2                         1     200         2           1       2022\n",
            "3                         2     150         1           1       2022\n",
            "4                         2     300         3           1       2022\n",
            "5                         3     250         4           1       2022\n"
          ]
        }
      ]
    },
    {
      "cell_type": "code",
      "source": [],
      "metadata": {
        "id": "FqZoZBnxjI7L"
      },
      "execution_count": null,
      "outputs": []
    }
  ]
}